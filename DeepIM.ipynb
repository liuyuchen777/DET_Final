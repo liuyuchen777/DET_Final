{
  "nbformat": 4,
  "nbformat_minor": 0,
  "metadata": {
    "colab": {
      "name": "DeepIM.ipynb",
      "provenance": [],
      "collapsed_sections": [],
      "include_colab_link": true
    },
    "kernelspec": {
      "name": "python3",
      "display_name": "Python 3"
    },
    "accelerator": "GPU"
  },
  "cells": [
    {
      "cell_type": "markdown",
      "metadata": {
        "id": "view-in-github",
        "colab_type": "text"
      },
      "source": [
        "<a href=\"https://colab.research.google.com/github/liuyuchen777/Detection-and-Estiamtion-Th-final-project/blob/master/DeepIM.ipynb\" target=\"_parent\"><img src=\"https://colab.research.google.com/assets/colab-badge.svg\" alt=\"Open In Colab\"/></a>"
      ]
    },
    {
      "cell_type": "code",
      "metadata": {
        "id": "_jNZO2yfmGxx",
        "colab_type": "code",
        "outputId": "df771094-40c3-4ac7-bf03-964b1a732192",
        "colab": {
          "base_uri": "https://localhost:8080/",
          "height": 86
        }
      },
      "source": [
        "import numpy as np\n",
        "import tensorflow as tf\n",
        "import scipy\n",
        "from scipy.special import binom\n",
        "print(scipy.__version__)\n",
        "print(tf.__version__)\n",
        "print(np.__version__)\n",
        "device_name = tf.test.gpu_device_name()\n",
        "if device_name != '/device:GPU:0':\n",
        "  raise SystemError('GPU device not found')\n",
        "print('Found GPU at: {}'.format(device_name))"
      ],
      "execution_count": 29,
      "outputs": [
        {
          "output_type": "stream",
          "text": [
            "1.3.3\n",
            "1.15.0\n",
            "1.17.4\n",
            "Found GPU at: /device:GPU:0\n"
          ],
          "name": "stdout"
        }
      ]
    },
    {
      "cell_type": "code",
      "metadata": {
        "id": "2vZ0b0bgmXOb",
        "colab_type": "code",
        "outputId": "230905f4-48cd-4521-cd3f-16f0e42b1015",
        "colab": {
          "base_uri": "https://localhost:8080/",
          "height": 34
        }
      },
      "source": [
        "N = 4 # number of sub-carriers\n",
        "K = 1 # number of active sub-carriers\n",
        "M = 4 # M-ary modulation order\n",
        "SNRdb = 10 # Training SNR\n",
        "\n",
        "traing_epochs = 1000\n",
        "l_rate = 0.001 \n",
        "total_batch = 20 # number of batches per epoch\n",
        "batch_size = 1000\n",
        "\n",
        "n_hidden_1 = 32 # smaller for Tanh, larger for ReLu\n",
        "n_input = 3*N\n",
        "\n",
        "m = int(np.log2(M))\n",
        "c = int(np.log2(binom(N,K)))\n",
        "q = K*m + c # number of bits per OFDM-IM symbol\n",
        "print('Output number of the system: ',q)\n",
        "Q = 2**q\n",
        "n_output = q\n",
        "display_step = 10\n",
        "SNR = 10**(SNRdb/10)\n",
        "sigma = np.sqrt(1/SNR)\n",
        "qam_factor = (2/3)*(M-1)\n",
        "\n",
        "bits = np.random.binomial(n=1, p=0.5, size = (q,))\n",
        "a = 1/np.sqrt(2)"
      ],
      "execution_count": 45,
      "outputs": [
        {
          "output_type": "stream",
          "text": [
            "Output number of the system:  4\n"
          ],
          "name": "stdout"
        }
      ]
    },
    {
      "cell_type": "code",
      "metadata": {
        "id": "UL_gdt9im0BK",
        "colab_type": "code",
        "colab": {
          "base_uri": "https://localhost:8080/",
          "height": 52
        },
        "outputId": "4d8ede42-09a5-4a62-e2fa-d49274e5de53"
      },
      "source": [
        "# M-ary modulations\n",
        "if M==4:\n",
        "    QAM = np.array([1+1j, 1-1j, -1+1j, -1-1j], dtype=complex) # gray mapping\n",
        "elif M==8:\n",
        "    QAM = np.array([1, a+a*1j, -a+a*1j, 1j, a-a*1j, -1j, -1, -a-a*1j], dtype=complex) # 8PSK, not 8QAM indeed\n",
        "    qam_factor = 1\n",
        "elif M==16:\n",
        "    QAM = np.array([-3+3j, -3+1j, -3-3j, -3-1j, -1+3j, -1+1j, -1-3j, -1-1j, 3+3j, 3+1j, 3-3j, 3-1j, 1+3j, 1+1j, 1-3j, 1-1j], dtype=complex)\n",
        "else:\n",
        "    QAM = np.array([1, -1], dtype=complex) #BPSK\n",
        "    qam_factor = 1\n",
        "\n",
        "print(\"QAM number is \",M,\".\")\n",
        "print(\"QAM factor is \",qam_factor,\".\")\n",
        "power = np.sqrt(N/K/qam_factor) # power allocation factor\n",
        "\n",
        "# index patterns for N=4 and K=1,2,3 only\n",
        "if K==1:\n",
        "    idx = np.array([[0],[1],[2],[3]])\n",
        "elif K==2:\n",
        "    idx = np.array([[0,1],[2,3],[0,2],[1,3]]) \n",
        "else:\n",
        "    idx = np.array([[0,1,2],[1,2,3],[0,2,3],[0,1,3]]) "
      ],
      "execution_count": 46,
      "outputs": [
        {
          "output_type": "stream",
          "text": [
            "QAM number is  4 .\n",
            "QAM factor is  2.0 .\n"
          ],
          "name": "stdout"
        }
      ]
    },
    {
      "cell_type": "code",
      "metadata": {
        "id": "kkxwDX94nP7T",
        "colab_type": "code",
        "colab": {
          "base_uri": "https://localhost:8080/",
          "height": 34
        },
        "outputId": "3f530e5f-52fa-416b-96d4-979899a508d3"
      },
      "source": [
        "def OFDM_IM_received(bits, SNRdb):   \n",
        "    bit_id = bits[0:c:1]\n",
        "    id_de = bit_id.dot(2**np.arange(bit_id.size)[::-1])\n",
        "    \n",
        "    bit_sy = bits[c:q:1]   \n",
        "    bit_K = bit_sy.reshape(-1,m)\n",
        "    sy_de = np.zeros((K,), dtype=int)\n",
        "    sym = np.zeros((K,), dtype=complex)\n",
        "    for i in range(K):\n",
        "        bit_sy_i = bit_K[i,:]\n",
        "        sy_de[i] = bit_sy_i.dot(2**np.arange(bit_sy_i.size)[::-1])\n",
        "        sym[i] = QAM[sy_de[i]]\n",
        "\n",
        "    tx_sym = np.zeros((N,), dtype=complex)\n",
        "    tx_sym[idx[id_de,:]] = sym\n",
        "    tx_sym = tx_sym*power\n",
        "    \n",
        "    SNR = 10**(SNRdb/10)\n",
        "    sigma = np.sqrt(1/SNR)\n",
        "    #eps = 1./(1 + SNR) # imperfect CSI\n",
        "    eps = 0.0\n",
        "    \n",
        "    noise = sigma*np.sqrt(1/2)*(np.random.randn(*tx_sym.shape)+1j*np.random.randn(*tx_sym.shape))\n",
        "    h = np.sqrt((1-eps)/2)*(np.random.randn(*tx_sym.shape)+1j*np.random.randn(*tx_sym.shape))\n",
        "    e = np.sqrt(eps/2)*(np.random.randn(*tx_sym.shape)+1j*np.random.randn(*tx_sym.shape))\n",
        "    h1 = h + e\n",
        "    \n",
        "    y = h1*tx_sym + noise\n",
        "    y_bar = y/h\n",
        "    y_con = np.concatenate((np.real(y_bar),np.imag(y_bar)))\n",
        "    y_m = np.absolute(y)\n",
        "    Y = np.concatenate((y_con,y_m))\n",
        "\n",
        "    return Y  \n",
        "\n",
        "print(\"OFDM received defination.\")"
      ],
      "execution_count": 47,
      "outputs": [
        {
          "output_type": "stream",
          "text": [
            "OFDM received defination.\n"
          ],
          "name": "stdout"
        }
      ]
    },
    {
      "cell_type": "code",
      "metadata": {
        "id": "roucEiS0pMsX",
        "colab_type": "code",
        "colab": {
          "base_uri": "https://localhost:8080/",
          "height": 34
        },
        "outputId": "f136f1cb-423a-4dff-cb67-fee1f859c195"
      },
      "source": [
        "X = tf.placeholder(\"float\", [None, n_input])\n",
        "Y = tf.placeholder(\"float\", [None, n_output])\n",
        "initializer = tf.contrib.layers.xavier_initializer()\n",
        "\n",
        "def encoder(x):\n",
        "    weights = {                    \n",
        "        'encoder_h1': tf.Variable(initializer([n_input, n_hidden_1])),\n",
        "        'encoder_h2': tf.Variable(initializer([n_hidden_1, n_output])),            \n",
        "    }\n",
        "    biases = {            \n",
        "        'encoder_b1': tf.Variable(initializer([n_hidden_1])),\n",
        "        'encoder_b2': tf.Variable(initializer([n_output])),          \n",
        "    \n",
        "    }\n",
        "    layer_1 = tf.nn.tanh(tf.add(tf.matmul(x, weights['encoder_h1']), biases['encoder_b1']))\n",
        "    layer_2 = tf.nn.sigmoid(tf.add(tf.matmul(layer_1, weights['encoder_h2']), biases['encoder_b2']))\n",
        "    return layer_2\n",
        "\n",
        "y_pred = encoder(X)\n",
        "y_true = Y\n",
        "\n",
        "cost = tf.reduce_mean(tf.pow(y_true - y_pred, 2)) #cost function\n",
        "learning_rate = tf.placeholder(tf.float32, shape=[])\n",
        "optimizer = tf.train.AdamOptimizer(learning_rate=learning_rate).minimize(cost)\n",
        "init = tf.global_variables_initializer()\n",
        "\n",
        "def frange(x, y, jump):\n",
        "  while x < y:\n",
        "    yield x\n",
        "    x += jump\n",
        "\n",
        "print(\"Network Structure is defined.\")"
      ],
      "execution_count": 49,
      "outputs": [
        {
          "output_type": "stream",
          "text": [
            "Network Structure is defined.\n"
          ],
          "name": "stdout"
        }
      ]
    },
    {
      "cell_type": "code",
      "metadata": {
        "id": "d2mSs09FpV0v",
        "colab_type": "code",
        "outputId": "e0a9a28a-d099-4032-e41d-93ccd1faca2c",
        "colab": {
          "base_uri": "https://localhost:8080/",
          "height": 1000
        }
      },
      "source": [
        "# Training and testing phases \n",
        "with tf.Session() as sess:\n",
        "    # Training\n",
        "    print(\"----------Start to train the network.----------\")\n",
        "    sess.run(init)\n",
        "    for epoch in range(traing_epochs):\n",
        "        avg_cost = 0.\n",
        "        for index_m in range(total_batch):\n",
        "            input_samples = []\n",
        "            input_labels = []\n",
        "            for index_k in range(0, batch_size):\n",
        "                bits = np.random.binomial(n=1, p=0.5, size=(q,))\n",
        "                signal_output = OFDM_IM_received(bits, SNRdb)  \n",
        "                input_labels.append(bits)\n",
        "                input_samples.append(signal_output)\n",
        " \n",
        "            batch_x = np.asarray(input_samples)\n",
        "            batch_y = np.asarray(input_labels)\n",
        "            _,cs = sess.run([optimizer,cost], feed_dict={X:batch_x, Y:batch_y,learning_rate:l_rate})\n",
        "            avg_cost += cs / total_batch\n",
        "        if epoch % display_step == 0:\n",
        "            print(\"Epoch:\",'%04d' % (epoch+1), \"cost=\", \"{:.9f}\".format(avg_cost))\n",
        "\n",
        "    print(\"----------End training process.----------\")    \n",
        "    # Testing            \n",
        "    EbNodB_range = list(frange(0,35,5)) # 0dB - 30dB\n",
        "    ber = [None]*len(EbNodB_range)\n",
        "    print(\"----------Start the test process.----------\")\n",
        "    for n in range(0,len(EbNodB_range)):\n",
        "        input_samples_test = []\n",
        "        input_labels_test = []\n",
        "        test_number = 100000\n",
        "        if n>10:\n",
        "            test_number = 1000000\n",
        "        for i in range(0, test_number):\n",
        "            bits = np.random.binomial(n=1, p=0.5, size=(q, )) \n",
        "            signal_output = OFDM_IM_received(bits, EbNodB_range[n])\n",
        "            input_labels_test.append(bits)\n",
        "            input_samples_test.append(signal_output)\n",
        "            \n",
        "        batch_x = np.asarray(input_samples_test) #Convert the input to an array.\n",
        "        batch_y = np.asarray(input_labels_test)\n",
        "        \n",
        "        #print('Predicted y is ', sess.run(tf.sign(y_pred-0.5), feed_dict = {X:batch_x}))\n",
        "        #print('Batch_y is \\n', sess.run(tf.cast(tf.sign(batch_y-0.5),tf.float32)))\n",
        "        mean_error = tf.reduce_mean(abs(y_pred - batch_y)) # mean_error.eval({X:batch_x}),\n",
        "        mean_error_rate = 1-tf.reduce_mean(tf.reduce_mean(tf.to_float(tf.equal(tf.sign(y_pred-0.5), tf.cast(tf.sign(batch_y-0.5),tf.float32))),1))\n",
        "        ber[n]  = mean_error_rate.eval({X:batch_x}) # eval\n",
        "        print(\"SNR=\", EbNodB_range[n], \"BER:\", ber[n])"
      ],
      "execution_count": 50,
      "outputs": [
        {
          "output_type": "stream",
          "text": [
            "----------Start to train the network.----------\n",
            "Epoch: 0001 cost= 0.276061417\n",
            "Epoch: 0011 cost= 0.072350816\n",
            "Epoch: 0021 cost= 0.046706576\n",
            "Epoch: 0031 cost= 0.037957985\n",
            "Epoch: 0041 cost= 0.034087305\n",
            "Epoch: 0051 cost= 0.030400797\n",
            "Epoch: 0061 cost= 0.028892737\n",
            "Epoch: 0071 cost= 0.027490282\n",
            "Epoch: 0081 cost= 0.024572099\n",
            "Epoch: 0091 cost= 0.023391661\n",
            "Epoch: 0101 cost= 0.021790278\n",
            "Epoch: 0111 cost= 0.021875359\n",
            "Epoch: 0121 cost= 0.021235834\n",
            "Epoch: 0131 cost= 0.020452712\n",
            "Epoch: 0141 cost= 0.019533079\n",
            "Epoch: 0151 cost= 0.019595629\n",
            "Epoch: 0161 cost= 0.019917446\n",
            "Epoch: 0171 cost= 0.018492403\n",
            "Epoch: 0181 cost= 0.018458812\n",
            "Epoch: 0191 cost= 0.017902092\n",
            "Epoch: 0201 cost= 0.018260383\n",
            "Epoch: 0211 cost= 0.017664869\n",
            "Epoch: 0221 cost= 0.016681266\n",
            "Epoch: 0231 cost= 0.016841458\n",
            "Epoch: 0241 cost= 0.016971077\n",
            "Epoch: 0251 cost= 0.015785338\n",
            "Epoch: 0261 cost= 0.015800175\n",
            "Epoch: 0271 cost= 0.015687513\n",
            "Epoch: 0281 cost= 0.016002772\n",
            "Epoch: 0291 cost= 0.017076942\n",
            "Epoch: 0301 cost= 0.016046427\n",
            "Epoch: 0311 cost= 0.015102826\n",
            "Epoch: 0321 cost= 0.015425804\n",
            "Epoch: 0331 cost= 0.015571258\n",
            "Epoch: 0341 cost= 0.015176319\n",
            "Epoch: 0351 cost= 0.015288977\n",
            "Epoch: 0361 cost= 0.015593906\n",
            "Epoch: 0371 cost= 0.015668908\n",
            "Epoch: 0381 cost= 0.014529680\n",
            "Epoch: 0391 cost= 0.015129073\n",
            "Epoch: 0401 cost= 0.014686807\n",
            "Epoch: 0411 cost= 0.014979202\n",
            "Epoch: 0421 cost= 0.014551038\n",
            "Epoch: 0431 cost= 0.014162405\n",
            "Epoch: 0441 cost= 0.015042097\n",
            "Epoch: 0451 cost= 0.015109518\n",
            "Epoch: 0461 cost= 0.014309793\n",
            "Epoch: 0471 cost= 0.014896259\n",
            "Epoch: 0481 cost= 0.015057589\n",
            "Epoch: 0491 cost= 0.015100354\n",
            "Epoch: 0501 cost= 0.014702766\n",
            "Epoch: 0511 cost= 0.014104293\n",
            "Epoch: 0521 cost= 0.014706208\n",
            "Epoch: 0531 cost= 0.013569342\n",
            "Epoch: 0541 cost= 0.014761558\n",
            "Epoch: 0551 cost= 0.014693960\n",
            "Epoch: 0561 cost= 0.013471232\n",
            "Epoch: 0571 cost= 0.013986810\n",
            "Epoch: 0581 cost= 0.013920233\n",
            "Epoch: 0591 cost= 0.013217180\n",
            "Epoch: 0601 cost= 0.014720237\n",
            "Epoch: 0611 cost= 0.013535833\n",
            "Epoch: 0621 cost= 0.013763280\n",
            "Epoch: 0631 cost= 0.013960919\n",
            "Epoch: 0641 cost= 0.014361480\n",
            "Epoch: 0651 cost= 0.014316602\n",
            "Epoch: 0661 cost= 0.013846167\n",
            "Epoch: 0671 cost= 0.014444311\n",
            "Epoch: 0681 cost= 0.013863207\n",
            "Epoch: 0691 cost= 0.013099716\n",
            "Epoch: 0701 cost= 0.014218975\n",
            "Epoch: 0711 cost= 0.014171264\n",
            "Epoch: 0721 cost= 0.014161888\n",
            "Epoch: 0731 cost= 0.013813119\n",
            "Epoch: 0741 cost= 0.013893040\n",
            "Epoch: 0751 cost= 0.013895381\n",
            "Epoch: 0761 cost= 0.013152255\n",
            "Epoch: 0771 cost= 0.013383343\n",
            "Epoch: 0781 cost= 0.014188622\n",
            "Epoch: 0791 cost= 0.013572087\n",
            "Epoch: 0801 cost= 0.013522243\n",
            "Epoch: 0811 cost= 0.013938658\n",
            "Epoch: 0821 cost= 0.012831850\n",
            "Epoch: 0831 cost= 0.013662778\n",
            "Epoch: 0841 cost= 0.013706595\n",
            "Epoch: 0851 cost= 0.013702773\n",
            "Epoch: 0861 cost= 0.013384091\n",
            "Epoch: 0871 cost= 0.014075037\n",
            "Epoch: 0881 cost= 0.013457031\n",
            "Epoch: 0891 cost= 0.013838026\n",
            "Epoch: 0901 cost= 0.013572137\n",
            "Epoch: 0911 cost= 0.013245576\n",
            "Epoch: 0921 cost= 0.013747160\n",
            "Epoch: 0931 cost= 0.014053144\n",
            "Epoch: 0941 cost= 0.013280795\n",
            "Epoch: 0951 cost= 0.013190311\n",
            "Epoch: 0961 cost= 0.013559851\n",
            "Epoch: 0971 cost= 0.013714241\n",
            "Epoch: 0981 cost= 0.013324228\n",
            "Epoch: 0991 cost= 0.013108291\n",
            "----------End training process.----------\n",
            "----------Start the test process.----------\n",
            "SNR= 0 BER: 0.19670999\n",
            "SNR= 5 BER: 0.07058501\n",
            "SNR= 10 BER: 0.017057478\n",
            "SNR= 15 BER: 0.003812492\n",
            "SNR= 20 BER: 0.0010750294\n",
            "SNR= 25 BER: 0.00027501583\n",
            "SNR= 30 BER: 0.00012749434\n"
          ],
          "name": "stdout"
        }
      ]
    },
    {
      "cell_type": "code",
      "metadata": {
        "id": "d6Ck2hgg4JpC",
        "colab_type": "code",
        "outputId": "b00a75c4-bff8-4102-99c9-5a1bf9780d58",
        "colab": {
          "base_uri": "https://localhost:8080/",
          "height": 261
        }
      },
      "source": [
        "# BPSK AWGN channel BER performance\n",
        "from numpy import sqrt\n",
        "from numpy.random import rand, randn\n",
        "  \n",
        "N = 5000000\n",
        "EbNodB_range = range(0,35,5)\n",
        "itr = len(EbNodB_range)\n",
        "ber2 = [None]*itr\n",
        "\n",
        "for n in range (0, itr): \n",
        " \n",
        "    EbNodB = EbNodB_range[n]   \n",
        "    EbNo=10.0**(EbNodB/10.0)\n",
        "    x = 2 * (rand(N) >= 0.5) - 1\n",
        "    noise_std = 1/sqrt(2*EbNo)\n",
        "    y = x + noise_std * randn(N)\n",
        "    y_d = 2 * (y >= 0) - 1\n",
        "    errors = (x != y_d).sum()\n",
        "    ber2[n] = 1.0 * errors / N\n",
        "    \n",
        "    print(\"EbNodB:\", EbNodB)\n",
        "    #print(\"Error bits:\", errors)\n",
        "    print(\"Error probability:\", ber[n]) "
      ],
      "execution_count": 42,
      "outputs": [
        {
          "output_type": "stream",
          "text": [
            "EbNodB: 0\n",
            "Error probability: 0.20398003\n",
            "EbNodB: 5\n",
            "Error probability: 0.077857494\n",
            "EbNodB: 10\n",
            "Error probability: 0.02048248\n",
            "EbNodB: 15\n",
            "Error probability: 0.0047450066\n",
            "EbNodB: 20\n",
            "Error probability: 0.0011299849\n",
            "EbNodB: 25\n",
            "Error probability: 0.00030750036\n",
            "EbNodB: 30\n",
            "Error probability: 0.00012248755\n"
          ],
          "name": "stdout"
        }
      ]
    },
    {
      "cell_type": "code",
      "metadata": {
        "id": "paCFwrBuprtR",
        "colab_type": "code",
        "colab": {
          "base_uri": "https://localhost:8080/",
          "height": 104
        },
        "outputId": "30ca63a0-c245-452b-cd1d-9d4f9425b4cf"
      },
      "source": [
        "# ML detectors\n",
        "ber3 = np.array([0.226491,0.103562,0.0369861,0.00980914,0.00213404,4.001810e-004,9.612538e-005])\n",
        "# LLR detectors\n",
        "ber4 = np.array([0.289978,0.144974,0.0512481,0.0141429,0.00320167,5.384964e-004,1.000000e-004])\n",
        "\n",
        "print(ber)\n",
        "# print(ber2)\n",
        "print(ber3)\n",
        "print(ber4)"
      ],
      "execution_count": 51,
      "outputs": [
        {
          "output_type": "stream",
          "text": [
            "[0.19670999, 0.07058501, 0.017057478, 0.003812492, 0.0010750294, 0.00027501583, 0.00012749434]\n",
            "[2.264910e-01 1.035620e-01 3.698610e-02 9.809140e-03 2.134040e-03\n",
            " 4.001810e-04 9.612538e-05]\n",
            "[2.899780e-01 1.449740e-01 5.124810e-02 1.414290e-02 3.201670e-03\n",
            " 5.384964e-04 1.000000e-04]\n"
          ],
          "name": "stdout"
        }
      ]
    },
    {
      "cell_type": "code",
      "metadata": {
        "colab_type": "code",
        "outputId": "ab26c718-30f9-4ca4-d5e1-fe5097070233",
        "id": "C1KIaSFf3sMa",
        "colab": {
          "base_uri": "https://localhost:8080/",
          "height": 279
        }
      },
      "source": [
        "import matplotlib.pyplot as plt\n",
        "plt.plot(EbNodB_range,ber,'b',label='DeepMI detector')\n",
        "plt.plot(EbNodB_range,ber3,'r',label='ML detector')\n",
        "plt.plot(EbNodB_range,ber4,'y',label='LLR detector')\n",
        "# plt.plot(list(EbNodB_range), ber_theory, 'ro-',label='BPSK BER')\n",
        "plt.yscale('log')\n",
        "plt.xlabel('SNR Range')\n",
        "plt.ylabel('BER')\n",
        "plt.legend(loc='upper right',ncol = 1)\n",
        "plt.grid()\n",
        "#plt.savefig('DL_Detection_IM_BER_matplotlib')\n",
        "plt.show()"
      ],
      "execution_count": 52,
      "outputs": [
        {
          "output_type": "display_data",
          "data": {
            "image/png": "[encoded data removed]",
            "text/plain": [
              "<Figure size 432x288 with 1 Axes>"
            ]
          },
          "metadata": {
            "tags": []
          }
        }
      ]
    }
  ]
}